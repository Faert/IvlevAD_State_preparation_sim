{
 "cells": [
  {
   "cell_type": "code",
   "execution_count": 1,
   "metadata": {},
   "outputs": [],
   "source": [
    "from qiskit_aer import AerSimulator\n",
    "from qiskit import transpile\n",
    "from qiskit.circuit.library import RealAmplitudes, NLocal\n",
    "from qiskit.circuit import QuantumCircuit, QuantumRegister, ClassicalRegister, Parameter, ParameterVector\n",
    "from qiskit.transpiler.preset_passmanagers import generate_preset_pass_manager\n",
    "from qiskit_ibm_runtime import Session, SamplerV2 as Sampler\n",
    "from qiskit_ibm_runtime import QiskitRuntimeService\n",
    "from qiskit.visualization import plot_histogram, plot_state_city\n",
    "from qiskit.transpiler.passes import RemoveBarriers\n",
    "import qiskit.quantum_info as qi\n",
    "import numpy as np\n",
    "from scipy.optimize import minimize\n",
    "from scipy.stats import unitary_group\n",
    "import random"
   ]
  },
  {
   "cell_type": "markdown",
   "metadata": {},
   "source": [
    "Main part"
   ]
  },
  {
   "cell_type": "code",
   "execution_count": 2,
   "metadata": {},
   "outputs": [],
   "source": [
    "base = 1 #Base gate 0: all, 1: X, RZ, SX, ECR\n",
    "GlobalPhase = 0\n",
    "\n",
    "#Simple gates\n",
    "def H (q, cir):\n",
    "    if(base == 0):\n",
    "        cir.h(q)\n",
    "    else:\n",
    "        cir.sx(q)\n",
    "        cir.rz(np.pi/2, q)\n",
    "        cir.sx(q)\n",
    "    return cir\n",
    "\n",
    "def ZY (q, cir):\n",
    "    if(base == 0):\n",
    "        cir.z(q)\n",
    "        cir.y(q)\n",
    "    else:\n",
    "        cir.x(q)\n",
    "        cir.rz(np.pi, q)\n",
    "        cir.sx(q)\n",
    "        cir.rz(-np.pi, q)\n",
    "        cir.sx(q)\n",
    "    return cir\n",
    "\n",
    "def RY (phi, q, cir):\n",
    "    if(base == 0):\n",
    "        cir.ry(phi, q)\n",
    "    else:\n",
    "        cir.sx(q)\n",
    "        cir.rz(phi, q)\n",
    "        cir.x(q)\n",
    "        cir.sx(q)\n",
    "    return cir\n",
    "\n",
    "def CX (q, c, cir):\n",
    "    if(base == 0):\n",
    "        cir.cx(q, c)\n",
    "    else:\n",
    "        cir.rz(np.pi, q)\n",
    "        cir.sx(q)\n",
    "        cir.sx(c)\n",
    "        cir.rz(np.pi, c)\n",
    "        cir.ecr(q, c)\n",
    "        cir.rz(np.pi, q)\n",
    "        cir.sx(q)\n",
    "        cir.sx(c)\n",
    "        cir.rz(np.pi, c)\n",
    "        cir.ecr(q, c)\n",
    "        cir.rz(np.pi, q)\n",
    "        cir.sx(q)\n",
    "        cir.rz(-np.pi/2, q)\n",
    "        cir.sx(c)\n",
    "        global GlobalPhase\n",
    "        GlobalPhase += (-1)*np.pi/4\n",
    "    return cir"
   ]
  },
  {
   "cell_type": "code",
   "execution_count": 3,
   "metadata": {},
   "outputs": [],
   "source": [
    "#n-bit gates\n",
    "def X_bit_mask(x_mask, q_list, cir):\n",
    "    i = 0\n",
    "    while (x_mask != 0):\n",
    "        if(x_mask & 1):\n",
    "            cir.x(q_list[i])\n",
    "        i = i + 1\n",
    "        x_mask = x_mask >> 1\n",
    "    \n",
    "    return cir\n",
    "\n",
    "def CNOT_lin(q0, c, q_list, cir, flag_non_lin = False):\n",
    "    if(flag_non_lin or abs(q0 - c) == 1):\n",
    "        cir = CX(q_list[q0], q_list[c], cir)\n",
    "    else:\n",
    "        i = 0\n",
    "        while(q0 + i < c):\n",
    "            cir = CX(q_list[q0 + i], q_list[q0 + i + 1], cir)\n",
    "            i+=1\n",
    "\n",
    "        i -= 2\n",
    "        while(i > 0):\n",
    "            cir = CX(q_list[q0 + i], q_list[q0 + i + 1], cir)\n",
    "            i-=1\n",
    "\n",
    "        while(q0 + i < c):\n",
    "            cir = CX(q_list[q0 + i], q_list[q0 + i + 1], cir)\n",
    "            i+=1\n",
    "\n",
    "        i -= 2\n",
    "        while(i > 0):\n",
    "            cir = CX(q_list[q0 + i], q_list[q0 + i + 1], cir)\n",
    "            i-=1\n",
    "\n",
    "    return cir\n",
    "\n",
    "def C2NOT(q0, q1, c, q_list, cir): #CCNOT if P -> GF = 0, RZ -> GF = pi/8\n",
    "    cir = H(q_list[c], cir)\n",
    "    cir = CNOT_lin(q1, c, q_list, cir)\n",
    "    cir.rz(-np.pi/4, q_list[c])\n",
    "    cir = CNOT_lin(q0, c, q_list, cir)\n",
    "    cir.rz(np.pi/4, q_list[c])\n",
    "    cir = CNOT_lin(q1, c, q_list, cir)\n",
    "    cir.rz(-np.pi/4, q_list[c])\n",
    "    cir.rz(np.pi/4, q_list[q1])\n",
    "    cir = CNOT_lin(q0, c, q_list, cir)\n",
    "    cir.rz(np.pi/4, q_list[c])\n",
    "    cir = CNOT_lin(q0, q1, q_list, cir)\n",
    "    cir.rz(-np.pi/4, q_list[q1])\n",
    "    cir.rz(np.pi/4, q_list[q0])\n",
    "    cir = CNOT_lin(q0, q1, q_list, cir)\n",
    "    cir = H(q_list[c], cir)\n",
    "\n",
    "    global GlobalPhase \n",
    "    GlobalPhase += np.pi/8\n",
    "\n",
    "    return cir\n",
    "\n",
    "def CP_(phi, q, c, q_list, cir): #Controled P\n",
    "\n",
    "    cir.rz(phi/2, q_list[q])\n",
    "    cir = CNOT_lin(q, c, q_list, cir)\n",
    "    cir.rz(-phi/2, q_list[c])\n",
    "    cir = CNOT_lin(q, c, q_list, cir)\n",
    "    cir.rz(phi/2, q_list[c])\n",
    "\n",
    "    global GlobalPhase\n",
    "    GlobalPhase += (-1)*phi/4\n",
    "\n",
    "    return cir\n",
    "\n",
    "def CnPhase(ang, list, c, q_list, cir): #Multi controled P\n",
    "\n",
    "    if(len(list) == 1):\n",
    "        cir = CP_(ang, list[0], c, q_list, cir)\n",
    "        return cir\n",
    "\n",
    "    for i in range(1, len(list)):\n",
    "        cir = CP_(ang/(2**i), list[-i], c, q_list, cir)\n",
    "        cir = CnNOT(list[:-i], list[-i], q_list, cir)\n",
    "\n",
    "        cir = CP_(-ang/(2**i), list[-i], c, q_list, cir)\n",
    "        cir = CnNOT(list[:-i], list[-i], q_list, cir)\n",
    "\n",
    "    cir = CP_(ang/(2**(len(list) - 1)), list[0], c, q_list, cir)\n",
    "\n",
    "    return cir\n",
    "\n",
    "\n",
    "def CnNOT(list, c, q_list, cir):\n",
    "\n",
    "    if(len(list) == 1):\n",
    "        cir = CNOT_lin(list[0], c, q_list, cir)\n",
    "    elif(len(list) == 2):\n",
    "        cir = C2NOT(list[0], list[1], c, q_list, cir)\n",
    "    else:\n",
    "        cir = H(q_list[c], cir)\n",
    "        cir = CnPhase(np.pi, list, c, q_list, cir)\n",
    "        cir = H(q_list[c], cir)\n",
    "\n",
    "    return cir\n",
    "\n",
    "def CSWAP(q0, q1, c, q_list, cir):\n",
    "\n",
    "    cir = CNOT_lin(q1, q0, q_list, cir)\n",
    "    cir = C2NOT(q0, q1, c, q_list, cir)\n",
    "    cir = CNOT_lin(q1, q0, q_list, cir)\n",
    "    return cir"
   ]
  },
  {
   "cell_type": "code",
   "execution_count": 4,
   "metadata": {},
   "outputs": [],
   "source": [
    "#Auxiliary algorithms\n",
    "def norm(vec): #norm state vector\n",
    "    sum = 0\n",
    "    for elem in vec:\n",
    "        sum += abs(elem)**2\n",
    "    sum = np.sqrt(sum)\n",
    "    return [x / sum for x in vec]\n",
    "\n",
    "def abs_ang(vec, q_list): #abs angles\n",
    "    step = len(vec)\n",
    "    level_ang = []\n",
    "    temp_vec = [abs(x) for x in norm(vec)]\n",
    "\n",
    "    for i in range(len(q_list)):\n",
    "        step //= 2\n",
    "        level_ang.append([])\n",
    "        new_vec = []\n",
    "        for j in range(step):\n",
    "            a = temp_vec[j]\n",
    "            b = temp_vec[j+step]\n",
    "            c = np.sqrt(a**2 + b**2)\n",
    "            new_vec.append(c)\n",
    "            if (c != 0):\n",
    "                level_ang[i].append(2*np.arccos(a/c))\n",
    "            else:\n",
    "                level_ang[i].append(0)\n",
    "        temp_vec = new_vec\n",
    "    \n",
    "    return(level_ang)\n",
    "\n",
    "def phase_ang(vec): #phase angles\n",
    "    level_ang = []\n",
    "\n",
    "    for i in range(len(vec)):\n",
    "        temp_ang = np.angle(vec[i])\n",
    "        if (temp_ang < 0):\n",
    "            temp_ang += (2*np.pi)\n",
    "        level_ang.append(temp_ang)\n",
    "    \n",
    "    return(level_ang)"
   ]
  },
  {
   "cell_type": "code",
   "execution_count": 5,
   "metadata": {},
   "outputs": [
    {
     "name": "stdout",
     "output_type": "stream",
     "text": [
      "gp:  0.0\n"
     ]
    }
   ],
   "source": [
    "# State preparation algorithm\n",
    "def run(vec, q_list):\n",
    "    global GlobalPhase\n",
    "    N_ = len(q_list)\n",
    "    cir = QuantumCircuit(N_)\n",
    "    \n",
    "    \n",
    "    level_angles = list(reversed(abs_ang(vec, q_list)))\n",
    "    phase = phase_ang(vec)\n",
    "\n",
    "    angle = level_angles[0]\n",
    "    if(angle[0] != 0):\n",
    "        cir = RY(angle[0], q_list[0], cir)\n",
    "    if(N_ == 1):\n",
    "        if(phase[1] != 0):\n",
    "            cir.rz(-phase[0] + phase[1], q_list[0])\n",
    "        GlobalPhase += (phase[0] + phase[1])/2\n",
    "\n",
    "    temp = [0]\n",
    "\n",
    "    for i in range(1, N_):\n",
    "        angles = level_angles[i]\n",
    "        last_0 = 2**i - 1 \n",
    "\n",
    "        for j in range(2**(i)):\n",
    "            if(j == 0 or angles[j] != 0 or i == N_-1):\n",
    "                cir = X_bit_mask((2**(i) - j - 1) ^ (2**(i) - last_0 - 1), q_list, cir)\n",
    "                last_0 = j\n",
    "\n",
    "            if(i == N_-1 and phase[j] != 0):\n",
    "                cir.rz((-1.)*phase[j], q_list[i])\n",
    "            if(i == N_-1 and phase[j+2**(i)] != 0):\n",
    "                cir.x(q_list[i])\n",
    "                cir.rz(phase[j+2**(i)], q_list[i])\n",
    "                cir.x(q_list[i])\n",
    "\n",
    "            cir = RY(angles[j]/2, q_list[i], cir)\n",
    "\n",
    "            cir = CnNOT(temp, i, q_list, cir)\n",
    "\n",
    "            cir = RY((-1)*angles[j]/2, q_list[i], cir)\n",
    "            \n",
    "            if(i == N_-1 and phase[j] != 0):\n",
    "                cir.rz(phase[j], q_list[i])\n",
    "\n",
    "            cir = CnNOT(temp, i, q_list, cir)\n",
    "\n",
    "            if(i == N_-1 and phase[j+2**(i)] != 0):\n",
    "                cir.x(q_list[i])\n",
    "                cir.rz((-1)*phase[j+2**(i)], q_list[i])\n",
    "                cir.x(q_list[i])\n",
    "\n",
    "        cir = X_bit_mask(2**(i) - last_0 - 1, q_list, cir) \n",
    "        temp.append(i)\n",
    "\n",
    "    GlobalPhase = GlobalPhase % (2*np.pi)\n",
    "    while(GlobalPhase - np.pi/2 >= -0.00001):\n",
    "        cir.x(q_list[0])\n",
    "        cir = ZY(q_list[0], cir)\n",
    "        GlobalPhase -= np.pi/2\n",
    "\n",
    "    if(GlobalPhase - np.pi/4 > -np.pi/8 and len(q_list) > 2):\n",
    "        cir = C2NOT(0, 1, 2, q_list, cir)\n",
    "        cir = C2NOT(0, 1, 2, q_list, cir)\n",
    "        cir.x(q_list[0])\n",
    "        cir = ZY(q_list[0], cir)\n",
    "        GlobalPhase -= np.pi/2\n",
    "\n",
    "    print(\"gp: \", GlobalPhase)\n",
    "    GlobalPhase = 0\n",
    "\n",
    "    return cir"
   ]
  },
  {
   "cell_type": "markdown",
   "metadata": {},
   "source": [
    "Samples"
   ]
  },
  {
   "cell_type": "code",
   "execution_count": 6,
   "metadata": {},
   "outputs": [
    {
     "name": "stdout",
     "output_type": "stream",
     "text": [
      "[-0.13235243+0.51027599j -0.10799557+0.47295114j  0.48373083+0.22057838j\n",
      " -0.34645986-0.28994939j]\n",
      "[-0.13235243+0.51027599j -0.10799557+0.47295114j  0.48373083+0.22057838j\n",
      " -0.34645986-0.28994939j]\n",
      "1.0138386515217635e-15\n"
     ]
    }
   ],
   "source": [
    "N_q = 2\n",
    "size_v = 2**N_q\n",
    "a = np.random.uniform(low=-1, high=1, size=size_v).tolist()\n",
    "b = np.random.uniform(low=-1, high=1, size=size_v).tolist()\n",
    "vec = norm([complex(a[i], b[i]) for i in range(size_v)])\n",
    "cir = run(vec, [i for i in range(N_q)])\n",
    "op = qi.Operator(cir)\n",
    "array = np.array(op.data)\n",
    "res = array[:, 0]\n",
    "print(np.array(vec))\n",
    "print(res.flatten())\n",
    "print(np.linalg.norm(np.array(vec) - res.flatten()))"
   ]
  },
  {
   "cell_type": "code",
   "execution_count": 9,
   "metadata": {},
   "outputs": [
    {
     "name": "stdout",
     "output_type": "stream",
     "text": [
      "[[1.8886200307227774], [2.2605713275803963, 2.2383257714307296], [1.5707963267948966, 3.141592653589793, 3.141592653589793, 2.651635327336065]]\n",
      "gp:  1.1368683772161603e-13\n",
      "{'rz': 685, 'sx': 658, 'ecr': 200, 'x': 21}\n",
      "[0.1767767  0.         0.         0.1767767  0.1767767  0.35355339\n",
      " 0.53033009 0.70710678]\n",
      "[ 1.76776695e-01-3.60822483e-16j -6.10622664e-16-6.38378239e-16j\n",
      "  0.00000000e+00-1.11022302e-16j  1.76776695e-01-1.66533454e-16j\n",
      "  1.76776695e-01+5.27355937e-16j  3.53553391e-01-1.60982339e-15j\n",
      "  5.30330086e-01+1.11022302e-16j  7.07106781e-01-1.38777878e-15j]\n",
      "2.2082294793869584e-14\n"
     ]
    }
   ],
   "source": [
    "N_q = 3\n",
    "size_v = 2**N_q\n",
    "\n",
    "vec = norm([1, 0, 0, 1, 1, 2, 3, 4])\n",
    "print(list(reversed(abs_ang(vec, [0,1,2]))))\n",
    "cir = run(vec, [i for i in range(N_q)])\n",
    "cir = RemoveBarriers()(cir)\n",
    "print(dict(cir.count_ops()))\n",
    "op = qi.Operator(cir)\n",
    "array = np.array(op.data)\n",
    "res = array[:, 0]\n",
    "print(np.array(vec))\n",
    "print(res.flatten())\n",
    "print(np.linalg.norm(np.array(vec) - res.flatten()))"
   ]
  },
  {
   "cell_type": "code",
   "execution_count": 11,
   "metadata": {},
   "outputs": [
    {
     "name": "stdout",
     "output_type": "stream",
     "text": [
      "[[ 1.76776695e-01-3.60822483e-16j -2.44252105e-01+8.32667268e-17j\n",
      "  -3.75000000e-01+2.22044605e-16j  5.18136960e-01+7.77156117e-16j\n",
      "  -1.76776695e-01-3.33066907e-16j  2.44252105e-01+4.85722573e-16j\n",
      "   3.75000000e-01-1.72084569e-15j -5.18136960e-01-2.22044605e-16j]\n",
      " [-6.10622664e-16-6.38378239e-16j  1.38777878e-16+5.27355937e-16j\n",
      "  -5.55111512e-17-2.22044605e-16j  1.66533454e-16-1.11022302e-15j\n",
      "  -3.53553391e-01+8.32667268e-17j -2.55883158e-01-1.60982339e-15j\n",
      "   7.28868987e-01-4.99600361e-16j  5.27516644e-01-2.22044605e-16j]\n",
      " [ 0.00000000e+00-1.11022302e-16j  5.55111512e-16-2.77555756e-16j\n",
      "   2.77555756e-17+1.38777878e-16j -3.33066907e-16-7.21644966e-16j\n",
      "  -5.30330086e-01+4.44089210e-16j  7.32756316e-01+1.38777878e-15j\n",
      "  -2.50000000e-01+4.71844785e-16j  3.45424640e-01-7.49400542e-16j]\n",
      " [ 1.76776695e-01-1.66533454e-16j  1.27941579e-01+6.10622664e-16j\n",
      "   8.57492926e-02-8.88178420e-16j  6.20607816e-02+1.80411242e-16j\n",
      "  -7.07106781e-01+8.32667268e-16j -5.11766316e-01-1.66533454e-16j\n",
      "  -3.42997170e-01+8.32667268e-16j -2.48243127e-01-1.35308431e-15j]\n",
      " [ 1.76776695e-01+5.27355937e-16j -2.44252105e-01-8.60422844e-16j\n",
      "  -3.75000000e-01+1.77635684e-15j  5.18136960e-01-3.33066907e-16j\n",
      "   1.76776695e-01+6.93889390e-16j -2.44252105e-01+4.16333634e-17j\n",
      "  -3.75000000e-01+2.77555756e-16j  5.18136960e-01+0.00000000e+00j]\n",
      " [ 3.53553391e-01-1.60982339e-15j  2.55883158e-01+4.71844785e-16j\n",
      "  -7.28868987e-01+5.55111512e-17j -5.27516644e-01-4.99600361e-16j\n",
      "   5.82867088e-16+3.88578059e-16j -5.55111512e-17+6.10622664e-16j\n",
      "  -3.88578059e-16+0.00000000e+00j  1.33226763e-15-4.99600361e-16j]\n",
      " [ 5.30330086e-01+1.11022302e-16j -7.32756316e-01+1.11022302e-16j\n",
      "   2.50000000e-01-1.19348975e-15j -3.45424640e-01-7.21644966e-16j\n",
      "  -2.22044605e-16+6.66133815e-16j  1.27675648e-15+0.00000000e+00j\n",
      "   2.49800181e-16+5.55111512e-17j  7.49400542e-16+2.77555756e-16j]\n",
      " [ 7.07106781e-01-1.38777878e-15j  5.11766316e-01+1.11022302e-16j\n",
      "   3.42997170e-01-3.88578059e-16j  2.48243127e-01+3.81639165e-16j\n",
      "   1.76776695e-01+1.11022302e-16j  1.27941579e-01+7.77156117e-16j\n",
      "   8.57492926e-02-1.08246745e-15j  6.20607816e-02+3.74700271e-16j]]\n"
     ]
    }
   ],
   "source": [
    "print(array) "
   ]
  },
  {
   "cell_type": "markdown",
   "metadata": {},
   "source": [
    "Qiskit AerSim"
   ]
  },
  {
   "cell_type": "code",
   "execution_count": 13,
   "metadata": {},
   "outputs": [
    {
     "name": "stdout",
     "output_type": "stream",
     "text": [
      "{'000': 124, '101': 509, '111': 2056, '110': 1150, '011': 139, '100': 118}\n"
     ]
    },
    {
     "data": {
      "image/png": "[encoded data removed]",
      "text/plain": [
       "<Figure size 700x500 with 1 Axes>"
      ]
     },
     "execution_count": 13,
     "metadata": {},
     "output_type": "execute_result"
    }
   ],
   "source": [
    "cir.measure_all()\n",
    "shots = 4096\n",
    "aer_sim = AerSimulator()\n",
    "#cir = transpile(cir, aer_sim)\n",
    "#cir.draw('mpl', style=\"iqp\")\n",
    "result_sim = aer_sim.run(cir, shots=shots).result()\n",
    "countsU = result_sim.get_counts(cir)\n",
    "print(countsU)\n",
    "plot_histogram(countsU)"
   ]
  },
  {
   "cell_type": "markdown",
   "metadata": {},
   "source": [
    "IBM quantum"
   ]
  },
  {
   "cell_type": "code",
   "execution_count": 8,
   "metadata": {},
   "outputs": [],
   "source": [
    "#QiskitRuntimeService.save_account(channel=\"ibm_quantum\", overwrite=True, token=\"\")\n",
    "service = QiskitRuntimeService()\n",
    "#print(service.backends())\n",
    "backend = service.get_backend('ibm_sherbrooke')"
   ]
  },
  {
   "cell_type": "code",
   "execution_count": null,
   "metadata": {},
   "outputs": [],
   "source": [
    "transpiled_circuit = transpile(cir, backend)\n",
    "transpiled_circuit.draw('mpl', style=\"iqp\")"
   ]
  },
  {
   "cell_type": "code",
   "execution_count": null,
   "metadata": {},
   "outputs": [
    {
     "name": "stderr",
     "output_type": "stream",
     "text": [
      "C:\\Users\\Александр\\AppData\\Local\\Temp\\ipykernel_20956\\366348298.py:1: DeprecationWarning: backend.run() and related sessions methods are deprecated  as of qiskit-ibm-runtime 0.23 and will be removed no sooner than 6 months after the release date. More details can be found in the primitives migration guide https://docs.quantum.ibm.com/api/migration-guides/qiskit-runtime.\n",
      "  job = backend.run(transpiled_circuit, shots=shots)\n"
     ]
    },
    {
     "name": "stdout",
     "output_type": "stream",
     "text": [
      "{'01': 111, '00': 2035, '10': 124, '11': 1826}\n"
     ]
    },
    {
     "data": {
      "image/png": "[encoded data removed]",
      "text/plain": [
       "<Figure size 700x500 with 1 Axes>"
      ]
     },
     "execution_count": 21,
     "metadata": {},
     "output_type": "execute_result"
    }
   ],
   "source": [
    "job = backend.run(transpiled_circuit, shots=shots)\n",
    "counts_q = job.result().get_counts()\n",
    "print(counts_q)\n",
    "plot_histogram(counts_q)"
   ]
  },
  {
   "cell_type": "markdown",
   "metadata": {},
   "source": [
    "Experiments"
   ]
  },
  {
   "cell_type": "code",
   "execution_count": 45,
   "metadata": {},
   "outputs": [
    {
     "name": "stdout",
     "output_type": "stream",
     "text": [
      "Num_exp:  0 \n",
      "\n",
      "Num_q:  6\n",
      "gp:  -18.26050723250495\n",
      "e:  0.765366864735325\n",
      "Num_exp:  1 \n",
      "\n",
      "Num_q:  6\n",
      "gp:  3.917172719525297e-08\n",
      "e:  1.1449667965009107e-11\n",
      "Num_exp:  2 \n",
      "\n",
      "Num_q:  6\n",
      "gp:  3.917172719525297e-08\n",
      "e:  1.1443651254765448e-11\n"
     ]
    }
   ],
   "source": [
    "Num_exp = 3\n",
    "Max_q = 6\n",
    "\n",
    "res_list = []\n",
    "for j in range(Max_q):\n",
    "    res_list.append([complex(0, 0)] * Num_exp)\n",
    "\n",
    "for i in range(Num_exp):\n",
    "    print(\"Num_exp: \", i, '\\n')\n",
    "    for j in range(0, Max_q):\n",
    "        N_q = j+1\n",
    "        size_v = 2**N_q\n",
    "        print(\"Num_q: \", N_q)\n",
    "        a = np.random.uniform(low=-1, high=1, size=size_v).tolist()\n",
    "        b = np.random.uniform(low=-1, high=1, size=size_v).tolist()\n",
    "        #b = np.array([0] * size_v)\n",
    "        vec = norm([complex(a[i], b[i]) for i in range(size_v)])\n",
    "        cir = run(vec, [i for i in range(N_q)])\n",
    "        op = qi.Operator(cir)\n",
    "        array = np.array(op.data)\n",
    "        res = array[:, 0]\n",
    "        res_list[j][i] = np.linalg.norm(np.array(vec) - res.flatten())\n",
    "        print(\"e: \", res_list[j][i])"
   ]
  },
  {
   "cell_type": "code",
   "execution_count": 46,
   "metadata": {},
   "outputs": [
    {
     "name": "stdout",
     "output_type": "stream",
     "text": [
      "[0j, 0j, 0j, 0j, 0j, 0.2551222882527394]\n"
     ]
    }
   ],
   "source": [
    "mid_res = [sum(res_list[i])/Num_exp for i in range(Max_q)]\n",
    "print(mid_res)"
   ]
  },
  {
   "cell_type": "code",
   "execution_count": null,
   "metadata": {},
   "outputs": [
    {
     "name": "stdout",
     "output_type": "stream",
     "text": [
      "Num_exp:  0 \n",
      "\n",
      "Num_q:  1\n",
      "gp:  0.0\n",
      "e:  1.1102230246251565e-16\n",
      "Num_q:  2\n",
      "gp:  0.0\n",
      "e:  9.477624839917472e-16\n",
      "Num_q:  3\n",
      "gp:  1.1368683772161603e-13\n",
      "e:  2.1517730681247506e-14\n",
      "Num_q:  4\n",
      "gp:  5.936584557275637e-12\n",
      "e:  2.2618303152827177e-13\n",
      "Num_q:  5\n",
      "gp:  8.416165542257659e-10\n",
      "e:  1.7364067566012113e-12\n",
      "Num_exp:  1 \n",
      "\n",
      "Num_q:  1\n",
      "gp:  0.0\n",
      "e:  1.6653345369377348e-16\n",
      "Num_q:  2\n",
      "gp:  0.0\n",
      "e:  6.901322157724297e-16\n",
      "Num_q:  3\n",
      "gp:  1.1368683772161603e-13\n",
      "e:  2.165231115147697e-14\n",
      "Num_q:  4\n",
      "gp:  5.936584557275637e-12\n",
      "e:  2.2469910383823255e-13\n",
      "Num_q:  5\n",
      "gp:  8.416165542257659e-10\n",
      "e:  1.7336736287957599e-12\n",
      "Num_exp:  2 \n",
      "\n",
      "Num_q:  1\n",
      "gp:  0.0\n",
      "e:  1.2412670766236366e-16\n",
      "Num_q:  2\n",
      "gp:  0.0\n",
      "e:  8.28028417508636e-16\n",
      "Num_q:  3\n",
      "gp:  1.1368683772161603e-13\n",
      "e:  2.1194422926589407e-14\n",
      "Num_q:  4\n",
      "gp:  5.936584557275637e-12\n",
      "e:  2.258906877038217e-13\n",
      "Num_q:  5\n",
      "gp:  8.416165542257659e-10\n",
      "e:  1.7265415316267875e-12\n",
      "Num_exp:  3 \n",
      "\n",
      "Num_q:  1\n",
      "gp:  0.0\n",
      "e:  1.5700924586837752e-16\n",
      "Num_q:  2\n",
      "gp:  0.0\n",
      "e:  6.574396000919821e-16\n",
      "Num_q:  3\n",
      "gp:  1.1368683772161603e-13\n",
      "e:  2.1058892538456267e-14\n",
      "Num_q:  4\n",
      "gp:  5.936584557275637e-12\n",
      "e:  2.2552348083604182e-13\n",
      "Num_q:  5\n",
      "gp:  8.416165542257659e-10\n",
      "e:  1.7416010457284e-12\n",
      "Num_exp:  4 \n",
      "\n",
      "Num_q:  1\n",
      "gp:  0.0\n",
      "e:  5.551115123125783e-17\n",
      "Num_q:  2\n",
      "gp:  0.0\n",
      "e:  5.530259263078839e-16\n",
      "Num_q:  3\n",
      "gp:  1.1368683772161603e-13\n",
      "e:  2.1363293641743667e-14\n",
      "Num_q:  4\n",
      "gp:  5.936584557275637e-12\n",
      "e:  2.2789390476840576e-13\n",
      "Num_q:  5\n",
      "gp:  8.416165542257659e-10\n",
      "e:  1.7307273634275865e-12\n",
      "Num_exp:  5 \n",
      "\n",
      "Num_q:  1\n",
      "gp:  0.0\n",
      "e:  1.1102230246251565e-16\n",
      "Num_q:  2\n",
      "gp:  0.0\n",
      "e:  1.3625698023915308e-15\n",
      "Num_q:  3\n",
      "gp:  1.1368683772161603e-13\n",
      "e:  2.1322081765441245e-14\n",
      "Num_q:  4\n",
      "gp:  5.936584557275637e-12\n",
      "e:  2.2469716521631542e-13\n",
      "Num_q:  5\n",
      "gp:  8.416165542257659e-10\n",
      "e:  1.732171643470047e-12\n",
      "Num_exp:  6 \n",
      "\n",
      "Num_q:  1\n",
      "gp:  0.0\n",
      "e:  1.1102230246251565e-16\n",
      "Num_q:  2\n",
      "gp:  0.0\n",
      "e:  9.902946670976172e-16\n",
      "Num_q:  3\n",
      "gp:  1.1368683772161603e-13\n",
      "e:  2.010648170305694e-14\n",
      "Num_q:  4\n",
      "gp:  5.936584557275637e-12\n",
      "e:  2.2606602397668445e-13\n",
      "Num_q:  5\n",
      "gp:  8.416165542257659e-10\n",
      "e:  1.737814623287948e-12\n",
      "Num_exp:  7 \n",
      "\n",
      "Num_q:  1\n",
      "gp:  0.0\n",
      "e:  5.273559366969494e-16\n",
      "Num_q:  2\n",
      "gp:  0.0\n",
      "e:  8.805562989441965e-16\n",
      "Num_q:  3\n",
      "gp:  1.1368683772161603e-13\n",
      "e:  2.1843131032333956e-14\n",
      "Num_q:  4\n",
      "gp:  5.936584557275637e-12\n",
      "e:  2.2294520100809268e-13\n",
      "Num_q:  5\n",
      "gp:  8.416165542257659e-10\n",
      "e:  1.7388560593527265e-12\n",
      "Num_exp:  8 \n",
      "\n",
      "Num_q:  1\n",
      "gp:  0.0\n",
      "e:  1.1102230246251565e-16\n",
      "Num_q:  2\n",
      "gp:  0.0\n",
      "e:  9.359022057391012e-16\n",
      "Num_q:  3\n",
      "gp:  1.1368683772161603e-13\n",
      "e:  2.1383564980859857e-14\n",
      "Num_q:  4\n",
      "gp:  5.936584557275637e-12\n",
      "e:  2.2672379266977178e-13\n",
      "Num_q:  5\n",
      "gp:  8.416165542257659e-10\n",
      "e:  1.7361679028691055e-12\n",
      "Num_exp:  9 \n",
      "\n",
      "Num_q:  1\n",
      "gp:  0.0\n",
      "e:  1.1102230246251565e-16\n",
      "Num_q:  2\n",
      "gp:  0.0\n",
      "e:  1.0948510389028343e-15\n",
      "Num_q:  3\n",
      "gp:  1.1368683772161603e-13\n",
      "e:  2.048047889882085e-14\n",
      "Num_q:  4\n",
      "gp:  5.936584557275637e-12\n",
      "e:  2.24235731479555e-13\n",
      "Num_q:  5\n",
      "gp:  8.416165542257659e-10\n",
      "e:  1.7260461928398882e-12\n"
     ]
    }
   ],
   "source": [
    "res_list_mod = []\n",
    "for j in range(Max_q):\n",
    "    res_list_mod.append([complex(0, 0)] * Num_exp)\n",
    "\n",
    "for i in range(Num_exp):\n",
    "    print(\"Num_exp: \", i, '\\n')\n",
    "    for j in range(Max_q):\n",
    "        N_q = j+1\n",
    "        size_v = 2**N_q\n",
    "        print(\"Num_q: \", N_q)\n",
    "        a = np.random.uniform(low=0, high=1, size=size_v).tolist()\n",
    "        #b = np.random.uniform(low=-1, high=1, size=size_v).tolist()\n",
    "        #b = np.array([0] * size_v)\n",
    "        vec = norm([a[i] for i in range(size_v)])\n",
    "        cir = run(vec, [i for i in range(N_q)])\n",
    "        op = qi.Operator(cir)\n",
    "        array = np.array(op.data)\n",
    "        res = array[:, 0]\n",
    "        res_list_mod[j][i] = np.linalg.norm(np.array(vec) - res.flatten())\n",
    "        print(\"e: \", res_list_mod[j][i])"
   ]
  },
  {
   "cell_type": "code",
   "execution_count": null,
   "metadata": {},
   "outputs": [
    {
     "name": "stdout",
     "output_type": "stream",
     "text": [
      "[1.5856480074653e-16, 8.94056265674796e-16, 2.1192238932002667e-14, 2.2548581230251933e-13, 1.7340006747999462e-12]\n"
     ]
    }
   ],
   "source": [
    "mid_res_mod = [sum(res_list_mod[i])/Num_exp for i in range(Max_q)]\n",
    "print(mid_res_mod)"
   ]
  },
  {
   "cell_type": "code",
   "execution_count": 9,
   "metadata": {},
   "outputs": [
    {
     "data": {
      "text/plain": [
       "<qiskit.circuit.instructionset.InstructionSet at 0x2ce5d63c550>"
      ]
     },
     "execution_count": 9,
     "metadata": {},
     "output_type": "execute_result"
    }
   ],
   "source": [
    "def dec_U(U, rot, ent, reps, phase = None):\n",
    "    size_v = U[0].size\n",
    "    num_q = int(np.log2(size_v))\n",
    "    if(num_q == 1):\n",
    "        qc_nlocal = NLocal(num_qubits=1, rotation_blocks=rot, entanglement='linear',\n",
    "                    skip_final_rotation_layer=True, insert_barriers=True, reps=reps)\n",
    "    else:\n",
    "        qc_nlocal = NLocal(num_qubits=num_q, rotation_blocks=rot,\n",
    "                    entanglement_blocks=ent, entanglement='linear',\n",
    "                    skip_final_rotation_layer=True, insert_barriers=True, reps=reps)\n",
    "\n",
    "    qc_nlocal = qc_nlocal.decompose()\n",
    "    if(num_q != 1 and reps != 1):\n",
    "        for i in range(num_q-1):\n",
    "            qc_nlocal.data.pop()\n",
    "\n",
    "    if (phase != None):# and num_q == 1\n",
    "        #qc_nlocal.add_layer(phase, front = True)\n",
    "        params_p = ParameterVector('p', 1)\n",
    "        qc_nlocal.p(params_p[0], 0)\n",
    "        qc_nlocal.x(0)\n",
    "        qc_nlocal.p(params_p[0], 0)\n",
    "        qc_nlocal.x(0)\n",
    "    \n",
    "    #qc_nlocal.draw('mpl', style=\"iqp\")#'mpl', style=\"iqp\"\n",
    "    return qc_nlocal\n",
    "\n",
    "\n",
    "\n",
    "def dec_run(U, rot, ent, reps, param0 = None, phase = None, Nmax = 1):\n",
    "    qc_nlocal = dec_U(U, rot, ent, reps, phase)\n",
    "    param_size = qc_nlocal.num_parameters\n",
    "    print(\"param_size: \", param_size)\n",
    "\n",
    "    def loss(param):\n",
    "        op_param = qi.Operator(qc_nlocal.assign_parameters(param))\n",
    "        array_param = op_param.data\n",
    "        norm_ = np.linalg.norm(np.array(U) - np.array(array_param), ord = 'fro')\n",
    "        return norm_\n",
    "    \n",
    "    bounds = [[-np.pi, np.pi] for i in range(param_size)]\n",
    "    if (param0 == None):\n",
    "        param0 = np.random.uniform(low=-np.pi, high=np.pi, size=param_size).tolist()\n",
    "        \n",
    "    res = minimize(loss, param0, bounds=bounds)\n",
    "    count = 1\n",
    "    min_e = loss(res.x)\n",
    "    min_p = res.x\n",
    "    while (min_e > 0.000001 and count < Nmax):\n",
    "        param0 = np.random.uniform(low=-np.pi, high=np.pi, size=param_size).tolist()\n",
    "        res = minimize(loss, param0, bounds=bounds)\n",
    "        if(loss(res.x) < min_e):\n",
    "            min_e = loss(res.x)\n",
    "            min_p = res.x\n",
    "        count+=1\n",
    "    param = np.array(min_p)\n",
    "    tmp = list(np.around(param,3))\n",
    "    gp = tmp.pop()\n",
    "    print(\"param: \", tmp)\n",
    "    e = min_e\n",
    "    print(\"e: \", e)\n",
    "    print(\"gp: \", gp)\n",
    "    qc_nlocal.assign_parameters(min_p).draw()\n",
    "    return [qc_nlocal, param, e]\n",
    "\n",
    "# rotation block:\n",
    "rot = QuantumCircuit(1)\n",
    "params = ParameterVector('r', 3)\n",
    "rot.sx(0)\n",
    "rot.rz(params[0], 0)\n",
    "rot.sx(0)\n",
    "rot.rz(params[1], 0)\n",
    "rot.sx(0)\n",
    "rot.rz(params[2], 0)\n",
    "rot.sx(0)\n",
    "\n",
    "# entanglement block:\n",
    "ent = QuantumCircuit(2)\n",
    "ent.ecr(0, 1)"
   ]
  },
  {
   "cell_type": "code",
   "execution_count": 55,
   "metadata": {},
   "outputs": [
    {
     "name": "stdout",
     "output_type": "stream",
     "text": [
      "[0.8184334841737559, 1.149589442747181e-15, 2.1531059102313306e-14]\n",
      "[0.8184334854672994, 1.4095688573315571e-08, 4.539507249031361e-07]\n"
     ]
    }
   ],
   "source": [
    "#mid_res_a = [sum(res_list_a[i])/Num_exp for i in range(Max_q)]\n",
    "#print(mid_res_a)\n",
    "#mid_res_b = [sum(res_list_b[i])/Num_exp for i in range(Max_q)]\n",
    "#print(mid_res_b)"
   ]
  },
  {
   "cell_type": "code",
   "execution_count": 62,
   "metadata": {},
   "outputs": [
    {
     "name": "stdout",
     "output_type": "stream",
     "text": [
      "Num_exp:  0 \n",
      "\n",
      "Num_q:  1\n",
      "gp:  0.7103297599085585\n",
      "5 OrderedDict([('ry', 1), ('rz', 1), ('x', 1), ('z', 1), ('y', 1)])\n",
      "14 OrderedDict([('sx', 8), ('rz', 6), ('barrier', 3)])\n",
      "Num_q:  2\n",
      "gp:  0.0\n",
      "27 OrderedDict([('x', 10), ('rz', 8), ('ry', 5), ('cx', 4)])\n",
      "60 OrderedDict([('sx', 32), ('rz', 24), ('barrier', 7), ('ecr', 4)])\n",
      "Num_q:  3\n",
      "gp:  0.0\n",
      "183 OrderedDict([('rz', 72), ('cx', 52), ('x', 26), ('h', 16), ('ry', 13), ('z', 2), ('y', 2)])\n",
      "184 OrderedDict([('sx', 96), ('rz', 72), ('ecr', 16), ('barrier', 15)])\n",
      "Num_q:  4\n",
      "gp:  2.1316282072803006e-14\n",
      "1183 OrderedDict([('rz', 552), ('cx', 436), ('h', 112), ('x', 54), ('ry', 29)])\n",
      "496 OrderedDict([('sx', 256), ('rz', 192), ('ecr', 48), ('barrier', 31)])\n",
      "Num_q:  5\n",
      "gp:  -2.4513724383723456e-13\n",
      "7299 OrderedDict([('rz', 3560), ('cx', 2868), ('h', 688), ('x', 118), ('ry', 61), ('z', 2), ('y', 2)])\n",
      "1248 OrderedDict([('sx', 640), ('rz', 480), ('ecr', 128), ('barrier', 63)])\n",
      "Num_q:  6\n",
      "gp:  -7.666756118851481e-12\n",
      "44103 OrderedDict([('rz', 21864), ('cx', 17716), ('h', 4144), ('x', 246), ('ry', 125), ('z', 4), ('y', 4)])\n",
      "3008 OrderedDict([('sx', 1536), ('rz', 1152), ('ecr', 320), ('barrier', 127)])\n",
      "Num_q:  7\n",
      "gp:  -9.671552447798604e-11\n",
      "265151 OrderedDict([('rz', 132200), ('cx', 107316), ('h', 24880), ('x', 498), ('ry', 253), ('z', 2), ('y', 2)])\n",
      "7040 OrderedDict([('sx', 3584), ('rz', 2688), ('ecr', 768), ('barrier', 255)])\n"
     ]
    }
   ],
   "source": [
    "Max_q = 7\n",
    "\n",
    "for i in range(1):\n",
    "    print(\"Num_exp: \", i, '\\n')\n",
    "    for j in range(0, Max_q):\n",
    "        N_q = j+1\n",
    "        size_v = 2**N_q\n",
    "        print(\"Num_q: \", N_q)\n",
    "        a = np.random.uniform(low=-1, high=1, size=size_v).tolist()\n",
    "        b = np.random.uniform(low=-1, high=1, size=size_v).tolist()\n",
    "        #b = np.array([0] * size_v)\n",
    "        vec = norm([complex(a[i], b[i]) for i in range(size_v)])\n",
    "        cir = run(vec, [i for i in range(N_q)])\n",
    "        print(cir.size(), cir.count_ops())\n",
    "        num_q = int(np.log2(size_v))\n",
    "        if(N_q == 1):\n",
    "            qc_nlocal = NLocal(num_qubits=1, rotation_blocks=rot, entanglement='linear',\n",
    "                        skip_final_rotation_layer=True, insert_barriers=True, reps=size_v)\n",
    "        else:\n",
    "            qc_nlocal = NLocal(num_qubits=N_q, rotation_blocks=rot,\n",
    "                        entanglement_blocks=ent, entanglement='linear',\n",
    "                        skip_final_rotation_layer=True, insert_barriers=True, reps=size_v)\n",
    "        qc_nlocal = qc_nlocal.decompose()\n",
    "        print(qc_nlocal.size(), qc_nlocal.count_ops())"
   ]
  },
  {
   "cell_type": "code",
   "execution_count": 18,
   "metadata": {},
   "outputs": [
    {
     "name": "stdout",
     "output_type": "stream",
     "text": [
      "Num_q:  2\n",
      "gp:  0.0\n",
      "param_size:  24\n",
      "param:  [-3.018, 3.142, 1.449, -0.717, -0.0, -2.599, 2.764, 3.142, 1.949, -3.142, -1.571, 3.141, -2.286, -3.142, -2.426, -3.142, -3.14, -3.142, -1.965, 3.142, 0.394, -3.142, -3.142]\n",
      "e:  4.1439247781157965e-08\n",
      "gp:  0.311\n",
      "59 OrderedDict([('sx', 32), ('rz', 24), ('barrier', 7), ('ecr', 3)])\n"
     ]
    },
    {
     "data": {
      "image/png": "[encoded data removed]",
      "text/plain": [
       "<Figure size 2252.61x618.722 with 1 Axes>"
      ]
     },
     "execution_count": 18,
     "metadata": {},
     "output_type": "execute_result"
    }
   ],
   "source": [
    "N_q = 2\n",
    "size_v = 2**N_q\n",
    "print(\"Num_q: \", N_q)\n",
    "vec = norm([1, 0, 0, 1])\n",
    "cir = run(vec, [i for i in range(N_q)])\n",
    "op = qi.Operator(cir)\n",
    "array = np.array(op.data)\n",
    "res = dec_run(array, rot, ent, size_v)\n",
    "qc_nlocal = res[0].assign_parameters(res[1])\n",
    "print(qc_nlocal.size(), qc_nlocal.count_ops())\n",
    "qc_nlocal.measure_all()\n",
    "qc_nlocal.draw('mpl', style=\"iqp\")"
   ]
  },
  {
   "cell_type": "code",
   "execution_count": 20,
   "metadata": {},
   "outputs": [
    {
     "name": "stderr",
     "output_type": "stream",
     "text": [
      "C:\\Users\\Александр\\AppData\\Local\\Temp\\ipykernel_16916\\1359921066.py:3: DeprecationWarning: backend.run() and related sessions methods are deprecated  as of qiskit-ibm-runtime 0.23 and will be removed no sooner than 6 months after the release date. More details can be found in the primitives migration guide https://docs.quantum.ibm.com/api/migration-guides/qiskit-runtime.\n",
      "  job = backend.run(transpiled_circuit, shots=shots)\n"
     ]
    },
    {
     "name": "stdout",
     "output_type": "stream",
     "text": [
      "{'11': 1790, '00': 2162, '01': 90, '10': 54}\n"
     ]
    },
    {
     "data": {
      "image/png": "[encoded data removed]",
      "text/plain": [
       "<Figure size 700x500 with 1 Axes>"
      ]
     },
     "execution_count": 20,
     "metadata": {},
     "output_type": "execute_result"
    }
   ],
   "source": [
    "shots = 4096\n",
    "transpiled_circuit = transpile(qc_nlocal, backend)\n",
    "job = backend.run(transpiled_circuit, shots=shots)\n",
    "counts_q = job.result().get_counts()\n",
    "print(counts_q)\n",
    "plot_histogram(counts_q)"
   ]
  },
  {
   "cell_type": "code",
   "execution_count": 21,
   "metadata": {},
   "outputs": [
    {
     "name": "stdout",
     "output_type": "stream",
     "text": [
      "{'11': 2039, '00': 2057}\n"
     ]
    },
    {
     "data": {
      "image/png": "[encoded data removed]",
      "text/plain": [
       "<Figure size 700x500 with 1 Axes>"
      ]
     },
     "execution_count": 21,
     "metadata": {},
     "output_type": "execute_result"
    }
   ],
   "source": [
    "aer_sim = AerSimulator()\n",
    "#cir = transpile(cir, aer_sim)\n",
    "#cir.draw('mpl', style=\"iqp\")\n",
    "result_sim = aer_sim.run(transpiled_circuit, shots=shots).result()\n",
    "countsU = result_sim.get_counts(transpiled_circuit)\n",
    "print(countsU)\n",
    "plot_histogram(countsU)"
   ]
  }
 ],
 "metadata": {
  "kernelspec": {
   "display_name": "Python 3",
   "language": "python",
   "name": "python3"
  },
  "language_info": {
   "codemirror_mode": {
    "name": "ipython",
    "version": 3
   },
   "file_extension": ".py",
   "mimetype": "text/x-python",
   "name": "python",
   "nbconvert_exporter": "python",
   "pygments_lexer": "ipython3",
   "version": "3.11.5"
  }
 },
 "nbformat": 4,
 "nbformat_minor": 2
}
